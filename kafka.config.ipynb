{
 "cells": [
  {
   "cell_type": "code",
   "execution_count": 3,
   "id": "ae5fbefd",
   "metadata": {},
   "outputs": [],
   "source": [
    "import os\n",
    "from dotenv import load_dotenv\n",
    "import subprocess\n",
    "\n",
    "load_dotenv()\n",
    "KAFKA_PATH = os.getenv('KAFKA_PATH')"
   ]
  },
  {
   "cell_type": "markdown",
   "id": "e375a61b",
   "metadata": {},
   "source": [
    "Start Kafka"
   ]
  },
  {
   "cell_type": "code",
   "execution_count": null,
   "id": "9afa605e",
   "metadata": {},
   "outputs": [
    {
     "name": "stdout",
     "output_type": "stream",
     "text": [
      "Kafka server started\n"
     ]
    }
   ],
   "source": [
    "def start():\n",
    "    try:\n",
    "        subprocess.Popen([\n",
    "            'cmd', '/c', 'start', 'cmd', '/k',\n",
    "            'bin\\\\windows\\\\kafka-server-start.bat config\\\\server.properties'\n",
    "        ], cwd=KAFKA_PATH)\n",
    "        print(\"Kafka server started\")\n",
    "    except Exception as e:\n",
    "        print(f\"Error: {e}\")\n",
    "\n",
    "start ()"
   ]
  },
  {
   "cell_type": "markdown",
   "id": "936dcbdf",
   "metadata": {},
   "source": [
    "Create Topic"
   ]
  },
  {
   "cell_type": "code",
   "execution_count": 3,
   "id": "d31588c5",
   "metadata": {},
   "outputs": [
    {
     "name": "stdout",
     "output_type": "stream",
     "text": [
      "Topic 'twcs' created\n"
     ]
    }
   ],
   "source": [
    "topic_name = 'twcs'\n",
    "\n",
    "def create_topic(topic_name):\n",
    "    try:\n",
    "        subprocess.Popen([\n",
    "            'cmd', '/c', 'start', 'cmd', '/k'\n",
    "            'bin\\\\windows\\\\kafka-topics.bat',\n",
    "            '--create',\n",
    "            '--topic', topic_name,\n",
    "            '--bootstrap-server', 'localhost:9092'\n",
    "        ], cwd=KAFKA_PATH)\n",
    "        print(f\"Topic '{topic_name}' created\")\n",
    "    except subprocess.CalledProcessError:\n",
    "        print(f\"Failed to create topic '{topic_name}'\")\n",
    "\n",
    "create_topic(topic_name)"
   ]
  },
  {
   "cell_type": "markdown",
   "id": "6df30603",
   "metadata": {},
   "source": [
    "Read Topic"
   ]
  },
  {
   "cell_type": "code",
   "execution_count": null,
   "id": "2baaaa5e",
   "metadata": {},
   "outputs": [
    {
     "name": "stdout",
     "output_type": "stream",
     "text": [
      "Topic 'twcs'\n"
     ]
    }
   ],
   "source": [
    "topic_name = 'twcs'\n",
    "\n",
    "def read_topic(topic_name):\n",
    "    try:\n",
    "        subprocess.Popen([\n",
    "            'cmd', '/c', 'start', 'cmd', '/k',\n",
    "            'bin\\\\windows\\\\kafka-console-consumer.bat',\n",
    "            '--bootstrap-server', 'localhost:9092',\n",
    "            '--topic', topic_name,\n",
    "            '--from-beginning'\n",
    "            # '--max-messages 100'\n",
    "        ], cwd=KAFKA_PATH)\n",
    "        print(f\"Topic '{topic_name}'\")\n",
    "    except Exception as e:\n",
    "        print(f\"Error: {e}\")\n",
    "\n",
    "read_topic(topic_name)"
   ]
  }
 ],
 "metadata": {
  "kernelspec": {
   "display_name": "venv",
   "language": "python",
   "name": "python3"
  },
  "language_info": {
   "codemirror_mode": {
    "name": "ipython",
    "version": 3
   },
   "file_extension": ".py",
   "mimetype": "text/x-python",
   "name": "python",
   "nbconvert_exporter": "python",
   "pygments_lexer": "ipython3",
   "version": "3.12.3"
  }
 },
 "nbformat": 4,
 "nbformat_minor": 5
}
