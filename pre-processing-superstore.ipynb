{
 "cells": [
  {
   "cell_type": "code",
   "execution_count": null,
   "id": "82c5d42b",
   "metadata": {},
   "outputs": [],
   "source": [
    "from pyspark.sql import SparkSession"
   ]
  },
  {
   "cell_type": "markdown",
   "id": "2e0ac9f7",
   "metadata": {},
   "source": [
    "Superstore pre-processing"
   ]
  },
  {
   "cell_type": "code",
   "execution_count": null,
   "id": "816875fa",
   "metadata": {},
   "outputs": [],
   "source": [
    "spark = SparkSession.builder \\\n",
    "    .appName(\"DeltaLake\") \\\n",
    "    .master(\"local[*]\") \\\n",
    "    .config(\"spark.jars.packages\", \n",
    "            \"org.apache.spark:spark-sql-kafka-0-10_2.13:4.0.0,io.delta:delta-spark_2.13:4.0.0\") \\\n",
    "    .config(\"spark.sql.extensions\", \"io.delta.sql.DeltaSparkSessionExtension\") \\\n",
    "    .config(\"spark.sql.catalog.spark_catalog\", \"org.apache.spark.sql.delta.catalog.DeltaCatalog\") \\\n",
    "    .getOrCreate()\n",
    "\n",
    "df_superstore = spark.read.format(\"delta\").load(\"hdfs://localhost:9000/delta_superstore\")\n",
    "print(df_superstore)"
   ]
  },
  {
   "cell_type": "code",
   "execution_count": null,
   "id": "09cd7216",
   "metadata": {},
   "outputs": [],
   "source": [
    "df_superstore.show()"
   ]
  },
  {
   "cell_type": "code",
   "execution_count": null,
   "id": "aadd44cc",
   "metadata": {},
   "outputs": [],
   "source": []
  }
 ],
 "metadata": {
  "kernelspec": {
   "display_name": "venv",
   "language": "python",
   "name": "python3"
  },
  "language_info": {
   "codemirror_mode": {
    "name": "ipython",
    "version": 3
   },
   "file_extension": ".py",
   "mimetype": "text/x-python",
   "name": "python",
   "nbconvert_exporter": "python",
   "pygments_lexer": "ipython3",
   "version": "3.12.3"
  }
 },
 "nbformat": 4,
 "nbformat_minor": 5
}
