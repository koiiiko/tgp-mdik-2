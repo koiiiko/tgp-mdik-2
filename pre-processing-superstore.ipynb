{
 "cells": [
  {
   "cell_type": "code",
   "execution_count": null,
   "id": "82c5d42b",
   "metadata": {},
   "outputs": [],
   "source": [
    "from pyspark.sql import SparkSession"
   ]
  },
  {
   "cell_type": "markdown",
   "id": "2e0ac9f7",
   "metadata": {},
   "source": [
    "Superstore pre-processing"
   ]
  },
  {
   "cell_type": "code",
   "execution_count": null,
   "id": "816875fa",
   "metadata": {},
   "outputs": [],
   "source": [
    "spark = SparkSession.builder \\\n",
    "    .appName(\"DeltaLake\") \\\n",
    "    .master(\"local[*]\") \\\n",
    "    .config(\"spark.jars.packages\", \n",
    "            \"org.apache.spark:spark-sql-kafka-0-10_2.13:4.0.0,io.delta:delta-spark_2.13:4.0.0\") \\\n",
    "    .config(\"spark.sql.extensions\", \"io.delta.sql.DeltaSparkSessionExtension\") \\\n",
    "    .config(\"spark.sql.catalog.spark_catalog\", \"org.apache.spark.sql.delta.catalog.DeltaCatalog\") \\\n",
    "    .getOrCreate()\n",
    "\n",
    "df_superstore = spark.read.format(\"delta\").load(\"hdfs://localhost:9000/delta_superstore\")"
   ]
  },
  {
   "cell_type": "code",
   "execution_count": null,
   "id": "09cd7216",
   "metadata": {},
   "outputs": [],
   "source": [
    "print(df_superstore.count())\n",
    "df_superstore.select(\"message\").show(5, truncate=False)"
   ]
  },
  {
   "cell_type": "code",
   "execution_count": null,
   "id": "aadd44cc",
   "metadata": {},
   "outputs": [],
   "source": [
    "from pyspark.sql.functions import *\n",
    "from pyspark.sql.types import *\n",
    "\n",
    "def parse_superstore(df):\n",
    "    superstore_schema = StructType([\n",
    "        StructField(\"Row ID\", StringType(), True),\n",
    "        StructField(\"Order ID\", StringType(), True),\n",
    "        StructField(\"Order Date\", StringType(), True),\n",
    "        StructField(\"Ship Date\", StringType(), True),\n",
    "        StructField(\"Ship Mode\", StringType(), True),\n",
    "        StructField(\"Customer ID\", StringType(), True),\n",
    "        StructField(\"Customer Name\", StringType(), True),\n",
    "        StructField(\"Segment\", StringType(), True),\n",
    "        StructField(\"Country\", StringType(), True),\n",
    "        StructField(\"City\", StringType(), True),\n",
    "        StructField(\"State\", StringType(), True),\n",
    "        StructField(\"Postal Code\", StringType(), True),\n",
    "        StructField(\"Region\", StringType(), True),\n",
    "        StructField(\"Product ID\", StringType(), True),\n",
    "        StructField(\"Category\", StringType(), True),\n",
    "        StructField(\"Sub-Category\", StringType(), True),\n",
    "        StructField(\"Product Name\", StringType(), True),\n",
    "        StructField(\"Sales\", StringType(), True),\n",
    "        StructField(\"Quantity\", StringType(), True),\n",
    "        StructField(\"Discount\", StringType(), True),\n",
    "        StructField(\"Profit\", StringType(), True)\n",
    "    ])\n",
    "    \n",
    "    parsed_superstore = df.select(\n",
    "        col(\"timestamp_kafka\"),\n",
    "        from_json(col(\"message\"), superstore_schema).alias(\"parsed_data\")\n",
    "    ).select(\n",
    "        col(\"timestamp_kafka\"),\n",
    "        col(\"parsed_data.Row ID\").cast(IntegerType()).alias(\"row_id\"),\n",
    "        col(\"parsed_data.Order ID\").alias(\"order_id\"),\n",
    "        to_date(col(\"parsed_data.Order Date\"), \"M/d/yyyy\").alias(\"order_date\"),\n",
    "        to_date(col(\"parsed_data.Ship Date\"), \"M/d/yyyy\").alias(\"ship_date\"),\n",
    "        col(\"parsed_data.Ship Mode\").alias(\"ship_mode\"),\n",
    "        col(\"parsed_data.Customer ID\").alias(\"customer_id\"),\n",
    "        col(\"parsed_data.Customer Name\").alias(\"customer_name\"),\n",
    "        col(\"parsed_data.Segment\").alias(\"segment\"),\n",
    "        col(\"parsed_data.Country\").alias(\"country\"),\n",
    "        col(\"parsed_data.City\").alias(\"city\"),\n",
    "        col(\"parsed_data.State\").alias(\"state\"),\n",
    "        col(\"parsed_data.Postal Code\").cast(IntegerType()).alias(\"postal_code\"),\n",
    "        col(\"parsed_data.Region\").alias(\"region\"),\n",
    "        col(\"parsed_data.Product ID\").alias(\"product_id\"),\n",
    "        col(\"parsed_data.Category\").alias(\"category\"),\n",
    "        col(\"parsed_data.Sub-Category\").alias(\"sub_category\"),\n",
    "        col(\"parsed_data.Product Name\").alias(\"product_name\"),\n",
    "        col(\"parsed_data.Sales\").cast(DecimalType(10,2)).alias(\"sales\"),\n",
    "        col(\"parsed_data.Quantity\").cast(IntegerType()).alias(\"quantity\"),\n",
    "        col(\"parsed_data.Discount\").cast(DecimalType(5,4)).alias(\"discount\"),\n",
    "        col(\"parsed_data.Profit\").cast(DecimalType(10,2)).alias(\"profit\")\n",
    "    )\n",
    "    \n",
    "    return parsed_superstore\n",
    "df_parsed_superstore = parse_superstore(df_superstore)"
   ]
  },
  {
   "cell_type": "code",
   "execution_count": null,
   "id": "fd647dbd",
   "metadata": {},
   "outputs": [],
   "source": [
    "print(len(df_parsed_superstore.columns))\n",
    "print(f\"{(df_parsed_superstore.columns)} \\n\")\n",
    "print(df_parsed_superstore.show(5))"
   ]
  },
  {
   "cell_type": "code",
   "execution_count": null,
   "id": "1575f2b5",
   "metadata": {},
   "outputs": [],
   "source": [
    "df_parsed_superstore.orderBy(col(\"row_id\").desc()).limit(5).show()"
   ]
  },
  {
   "cell_type": "markdown",
   "id": "ede6d685",
   "metadata": {},
   "source": [
    "Check Null Value"
   ]
  },
  {
   "cell_type": "code",
   "execution_count": null,
   "id": "6d26e6b8",
   "metadata": {},
   "outputs": [],
   "source": [
    "all_null_rows = df_parsed_superstore.filter(\n",
    "    col(\"row_id\").isNull() & \n",
    "    col(\"order_id\").isNull() & \n",
    "    col(\"customer_name\").isNull()\n",
    ")\n",
    "all_null_rows.show(10, truncate=False)\n",
    "print(f\"Total null: {all_null_rows.count()}\")"
   ]
  },
  {
   "cell_type": "code",
   "execution_count": null,
   "id": "72b8ac46",
   "metadata": {},
   "outputs": [],
   "source": [
    "df_parsed_superstore=df_parsed_superstore.dropna()\n",
    "print(df_parsed_superstore.count())"
   ]
  },
  {
   "cell_type": "markdown",
   "id": "83f406ac",
   "metadata": {},
   "source": [
    "Check Data Anomali"
   ]
  },
  {
   "cell_type": "code",
   "execution_count": null,
   "id": "07722eb0",
   "metadata": {},
   "outputs": [],
   "source": [
    "negative_sales = df_parsed_superstore.filter(col(\"sales\") < 0).count()\n",
    "negative_quantity = df_parsed_superstore.filter(col(\"quantity\") < 0).count()\n",
    "negative_discount = df_parsed_superstore.filter(col(\"discount\") < 0).count()\n",
    "print (negative_sales, negative_quantity , negative_discount)"
   ]
  },
  {
   "cell_type": "markdown",
   "id": "34b99791",
   "metadata": {},
   "source": [
    "Check Duplicate"
   ]
  },
  {
   "cell_type": "code",
   "execution_count": null,
   "id": "b259b09c",
   "metadata": {},
   "outputs": [],
   "source": [
    "total_data = df_parsed_superstore.count()\n",
    "distinct_data = df_parsed_superstore.distinct().count()\n",
    "duplicate_data = total_data - distinct_data\n",
    "\n",
    "print(f\"Total data: {total_data}\")\n",
    "print(f\"Distinct data: {distinct_data}\")\n",
    "print(f\"Duplicate data: {duplicate_data}\")"
   ]
  },
  {
   "cell_type": "markdown",
   "id": "f43fced8",
   "metadata": {},
   "source": [
    "Create sparkHive Session"
   ]
  },
  {
   "cell_type": "code",
   "execution_count": null,
   "id": "e12442ca",
   "metadata": {},
   "outputs": [],
   "source": [
    "from os.path import abspath\n",
    "\n",
    "warehouse_location = abspath('spark-warehouse')\n",
    "sparkHive = SparkSession \\\n",
    "    .builder \\\n",
    "    .appName(\"Python Spark SQL Hive integration example\") \\\n",
    "    .config(\"spark.sql.warehouse.dir\", warehouse_location) \\\n",
    "    .enableHiveSupport() \\\n",
    "    .getOrCreate()"
   ]
  },
  {
   "cell_type": "markdown",
   "id": "5e9e76e2",
   "metadata": {},
   "source": [
    "Create DW Scheme"
   ]
  },
  {
   "cell_type": "code",
   "execution_count": null,
   "id": "7922175a",
   "metadata": {},
   "outputs": [],
   "source": []
  },
  {
   "cell_type": "markdown",
   "id": "100488d6",
   "metadata": {},
   "source": [
    "Send to Hive (Data Warehouse)"
   ]
  },
  {
   "cell_type": "code",
   "execution_count": null,
   "id": "aa08fc79",
   "metadata": {},
   "outputs": [],
   "source": []
  }
 ],
 "metadata": {
  "kernelspec": {
   "display_name": "venv",
   "language": "python",
   "name": "python3"
  },
  "language_info": {
   "codemirror_mode": {
    "name": "ipython",
    "version": 3
   },
   "file_extension": ".py",
   "mimetype": "text/x-python",
   "name": "python",
   "nbconvert_exporter": "python",
   "pygments_lexer": "ipython3",
   "version": "3.12.3"
  }
 },
 "nbformat": 4,
 "nbformat_minor": 5
}
