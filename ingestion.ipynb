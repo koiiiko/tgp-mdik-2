{
 "cells": [
  {
   "cell_type": "code",
   "execution_count": 8,
   "id": "00b6e1db",
   "metadata": {},
   "outputs": [
    {
     "name": "stdout",
     "output_type": "stream",
     "text": [
      "^C\n"
     ]
    },
    {
     "name": "stdout",
     "output_type": "stream",
     "text": [
      "Requirement already satisfied: kafka-python in d:\\ribkaadevina\\college\\8.s2\\1. sem 1\\mdik\\tgp-mdik-2\\venv\\lib\\site-packages (2.2.13)\n"
     ]
    },
    {
     "name": "stderr",
     "output_type": "stream",
     "text": [
      "\n",
      "[notice] A new release of pip is available: 23.2.1 -> 25.1.1\n",
      "[notice] To update, run: python.exe -m pip install --upgrade pip\n"
     ]
    }
   ],
   "source": [
    "!pip install kafka-python"
   ]
  },
  {
   "cell_type": "code",
   "execution_count": 1,
   "id": "af56b612",
   "metadata": {},
   "outputs": [
    {
     "name": "stdout",
     "output_type": "stream",
     "text": [
      "Inisialisasi producer...\n",
      "Mulai buka file...\n",
      "File berhasil dibuka, mulai baca baris...\n",
      "✅ 1000 baris terkirim ke topic 'superstore'\n",
      "✅ 2000 baris terkirim ke topic 'superstore'\n",
      "✅ 3000 baris terkirim ke topic 'superstore'\n",
      "✅ 4000 baris terkirim ke topic 'superstore'\n",
      "✅ 5000 baris terkirim ke topic 'superstore'\n",
      "✅ 6000 baris terkirim ke topic 'superstore'\n",
      "✅ 7000 baris terkirim ke topic 'superstore'\n",
      "✅ 8000 baris terkirim ke topic 'superstore'\n",
      "✅ 9000 baris terkirim ke topic 'superstore'\n",
      "Selesai kirim semua 9994 baris ke topic 'superstore'.\n",
      "Producer ditutup.\n"
     ]
    }
   ],
   "source": [
    "from kafka import KafkaProducer\n",
    "import csv\n",
    "\n",
    "print(\"Inisialisasi producer...\")\n",
    "\n",
    "producer = KafkaProducer(\n",
    "    bootstrap_servers='localhost:9092',\n",
    "    value_serializer=lambda v: v.encode('utf-8')\n",
    ")\n",
    "\n",
    "def send_csv_to_kafka(csv_file, topic_name):\n",
    "    print(\"Mulai buka file...\")\n",
    "    with open(csv_file, newline='', encoding='ISO-8859-1') as f:\n",
    "        print(\"File berhasil dibuka, mulai baca baris...\")\n",
    "        reader = csv.DictReader(f)\n",
    "        for idx, row in enumerate(reader):\n",
    "            message = str(row)\n",
    "            producer.send(topic_name, message)\n",
    "\n",
    "            if idx % 1000 == 0 and idx > 0:\n",
    "                producer.flush()\n",
    "                print(f\"✅ {idx} baris terkirim ke topic '{topic_name}'\")\n",
    "\n",
    "    producer.flush()\n",
    "    print(f\"Selesai kirim semua {idx+1} baris ke topic '{topic_name}'.\")\n",
    "\n",
    "send_csv_to_kafka('Sample - Superstore.csv', 'superstore')\n",
    "producer.close()\n",
    "print(\"Producer ditutup.\")"
   ]
  },
  {
   "cell_type": "code",
   "execution_count": 2,
   "id": "ec1e4dad",
   "metadata": {},
   "outputs": [
    {
     "name": "stdout",
     "output_type": "stream",
     "text": [
      "Inisialisasi Kafka Producer...\n",
      "Mulai buka file...\n",
      "File berhasil dibuka, mulai baca dan kirim baris...\n",
      "✅ 100000 baris terkirim\n",
      "✅ 200000 baris terkirim\n",
      "✅ 300000 baris terkirim\n",
      "✅ 400000 baris terkirim\n",
      "✅ 500000 baris terkirim\n",
      "✅ 600000 baris terkirim\n",
      "✅ 700000 baris terkirim\n",
      "✅ 800000 baris terkirim\n",
      "✅ 900000 baris terkirim\n",
      "✅ 1000000 baris terkirim\n",
      "✅ 1100000 baris terkirim\n",
      "✅ 1200000 baris terkirim\n",
      "✅ 1300000 baris terkirim\n",
      "✅ 1400000 baris terkirim\n",
      "✅ 1500000 baris terkirim\n",
      "✅ 1600000 baris terkirim\n",
      "✅ 1700000 baris terkirim\n",
      "✅ 1800000 baris terkirim\n",
      "✅ 1900000 baris terkirim\n",
      "✅ 2000000 baris terkirim\n",
      "✅ 2100000 baris terkirim\n",
      "✅ 2200000 baris terkirim\n",
      "✅ 2300000 baris terkirim\n",
      "✅ 2400000 baris terkirim\n",
      "✅ 2500000 baris terkirim\n",
      "✅ 2600000 baris terkirim\n",
      "✅ 2700000 baris terkirim\n",
      "✅ 2800000 baris terkirim\n",
      "✅ Selesai kirim semua 2811774 baris ke topic 'twcs'.\n",
      "Producer ditutup.\n"
     ]
    }
   ],
   "source": [
    "from kafka import KafkaProducer\n",
    "import csv\n",
    "\n",
    "print(\"Inisialisasi Kafka Producer...\")\n",
    "\n",
    "producer = KafkaProducer(\n",
    "    bootstrap_servers='localhost:9092',\n",
    "    value_serializer=lambda v: v.encode('utf-8'),\n",
    "    acks=0,\n",
    "    linger_ms=50,\n",
    "    batch_size=32768\n",
    ")\n",
    "\n",
    "def send_csv_to_kafka(csv_file, topic_name):\n",
    "    print(\"Mulai buka file...\")\n",
    "    with open(csv_file, newline='', encoding='ISO-8859-1') as f:\n",
    "        reader = csv.DictReader(f)\n",
    "        print(\"File berhasil dibuka, mulai baca dan kirim baris...\")\n",
    "\n",
    "        for idx, row in enumerate(reader):\n",
    "            producer.send(topic_name, str(row))\n",
    "\n",
    "            if idx > 0 and idx % 100000 == 0:\n",
    "                print(f\"✅ {idx} baris terkirim\")\n",
    "\n",
    "    producer.flush()\n",
    "    print(f\"✅ Selesai kirim semua {idx+1} baris ke topic '{topic_name}'.\")\n",
    "    producer.close()\n",
    "    print(\"Producer ditutup.\")\n",
    "\n",
    "# Jalankan\n",
    "send_csv_to_kafka('twcs.csv', 'twcs')"
   ]
  }
 ],
 "metadata": {
  "kernelspec": {
   "display_name": "venv",
   "language": "python",
   "name": "python3"
  },
  "language_info": {
   "codemirror_mode": {
    "name": "ipython",
    "version": 3
   },
   "file_extension": ".py",
   "mimetype": "text/x-python",
   "name": "python",
   "nbconvert_exporter": "python",
   "pygments_lexer": "ipython3",
   "version": "3.12.1"
  }
 },
 "nbformat": 4,
 "nbformat_minor": 5
}
