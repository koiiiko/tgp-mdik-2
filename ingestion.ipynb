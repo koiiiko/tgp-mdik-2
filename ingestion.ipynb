{
 "cells": [
  {
   "cell_type": "code",
   "execution_count": 1,
   "id": "af56b612",
   "metadata": {},
   "outputs": [
    {
     "name": "stdout",
     "output_type": "stream",
     "text": [
      "Total data : 1000 terkirim ke topic 'superstore'\n",
      "Total data : 2000 terkirim ke topic 'superstore'\n",
      "Total data : 3000 terkirim ke topic 'superstore'\n",
      "Total data : 4000 terkirim ke topic 'superstore'\n",
      "Total data : 5000 terkirim ke topic 'superstore'\n",
      "Total data : 6000 terkirim ke topic 'superstore'\n",
      "Total data : 7000 terkirim ke topic 'superstore'\n",
      "Total data : 8000 terkirim ke topic 'superstore'\n",
      "Total data : 9000 terkirim ke topic 'superstore'\n"
     ]
    }
   ],
   "source": [
    "from kafka import KafkaProducer\n",
    "import csv\n",
    "\n",
    "producer = KafkaProducer(\n",
    "    bootstrap_servers='localhost:9092',\n",
    "    value_serializer=lambda v: v.encode('utf-8')\n",
    ")\n",
    "\n",
    "def send_csv_to_kafka(csv_file, topic_name):\n",
    "    with open(csv_file, newline='', encoding='ISO-8859-1') as f:\n",
    "        reader = csv.DictReader(f)\n",
    "        for idx, row in enumerate(reader):\n",
    "            message = str(row)\n",
    "            producer.send(topic_name, message)\n",
    "            if idx % 1000 == 0 and idx > 0:\n",
    "                producer.flush()\n",
    "                print(f\"Total data : {idx} terkirim ke topic '{topic_name}'\")\n",
    "    producer.flush()\n",
    "\n",
    "send_csv_to_kafka('Sample - Superstore.csv', 'superstore')\n",
    "producer.close()"
   ]
  },
  {
   "cell_type": "code",
   "execution_count": 2,
   "id": "ec1e4dad",
   "metadata": {},
   "outputs": [
    {
     "name": "stdout",
     "output_type": "stream",
     "text": [
      "Total data : 200000 terkirim ke topic 'twcs'\n",
      "Total data : 400000 terkirim ke topic 'twcs'\n",
      "Total data : 600000 terkirim ke topic 'twcs'\n",
      "Total data : 800000 terkirim ke topic 'twcs'\n",
      "Total data : 1000000 terkirim ke topic 'twcs'\n",
      "Total data : 1200000 terkirim ke topic 'twcs'\n",
      "Total data : 1400000 terkirim ke topic 'twcs'\n",
      "Total data : 1600000 terkirim ke topic 'twcs'\n",
      "Total data : 1800000 terkirim ke topic 'twcs'\n",
      "Total data : 2000000 terkirim ke topic 'twcs'\n",
      "Total data : 2200000 terkirim ke topic 'twcs'\n",
      "Total data : 2400000 terkirim ke topic 'twcs'\n",
      "Total data : 2600000 terkirim ke topic 'twcs'\n",
      "Total data : 2800000 terkirim ke topic 'twcs'\n"
     ]
    }
   ],
   "source": [
    "producer = KafkaProducer(\n",
    "    bootstrap_servers='localhost:9092',\n",
    "    value_serializer=lambda v: v.encode('utf-8'),\n",
    "    acks=1,\n",
    "    linger_ms=50,\n",
    "    batch_size=32768\n",
    ")\n",
    "\n",
    "def send_csv_to_kafka(csv_file, topic_name):\n",
    "    with open(csv_file, newline='', encoding='ISO-8859-1') as f:\n",
    "        reader = csv.DictReader(f)\n",
    "        for idx, row in enumerate(reader):\n",
    "            message = str(row)\n",
    "            producer.send(topic_name, message)\n",
    "            if idx > 0 and idx % 200000 == 0:\n",
    "                producer.flush()\n",
    "                print(f\"Total data : {idx} terkirim ke topic '{topic_name}'\")\n",
    "    producer.flush()\n",
    "\n",
    "send_csv_to_kafka('twcs.csv', 'twcs')\n",
    "producer.close()"
   ]
  }
 ],
 "metadata": {
  "kernelspec": {
   "display_name": "venv",
   "language": "python",
   "name": "python3"
  },
  "language_info": {
   "codemirror_mode": {
    "name": "ipython",
    "version": 3
   },
   "file_extension": ".py",
   "mimetype": "text/x-python",
   "name": "python",
   "nbconvert_exporter": "python",
   "pygments_lexer": "ipython3",
   "version": "3.12.3"
  }
 },
 "nbformat": 4,
 "nbformat_minor": 5
}
