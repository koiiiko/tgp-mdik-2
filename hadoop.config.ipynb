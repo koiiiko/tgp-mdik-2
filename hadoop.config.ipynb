{
 "cells": [
  {
   "cell_type": "code",
   "execution_count": null,
   "id": "daa41b7d",
   "metadata": {},
   "outputs": [],
   "source": [
    "import os\n",
    "from dotenv import load_dotenv\n",
    "import subprocess\n",
    "\n",
    "load_dotenv()\n",
    "HADOOP_PATH = os.getenv('HADOOP_PATH')"
   ]
  },
  {
   "cell_type": "markdown",
   "id": "885ac050",
   "metadata": {},
   "source": [
    "Start Hadoop Components: namenode and datanode"
   ]
  },
  {
   "cell_type": "code",
   "execution_count": null,
   "id": "9243a89e",
   "metadata": {},
   "outputs": [],
   "source": [
    "def start_namenode():\n",
    "    try:\n",
    "        subprocess.Popen([\n",
    "            'cmd', '/c', 'start', 'cmd', '/k',\n",
    "            'sbin\\\\start-dfs.cmd'\n",
    "        ], cwd=HADOOP_PATH)\n",
    "        print(\"Hadoop components: namenode started\")\n",
    "    except Exception as e:\n",
    "        print(f\"Error: {e}\")\n",
    "\n",
    "start_namenode()"
   ]
  },
  {
   "cell_type": "markdown",
   "id": "83a6c268",
   "metadata": {},
   "source": [
    "Start Hadoop Components: YARN"
   ]
  },
  {
   "cell_type": "code",
   "execution_count": null,
   "id": "cdb8f66f",
   "metadata": {},
   "outputs": [],
   "source": [
    "def start():\n",
    "    try:\n",
    "        subprocess.Popen([\n",
    "            'cmd', '/c', 'start', 'cmd', '/k',\n",
    "            'sbin\\\\start-yarn.cmd'\n",
    "        ], cwd=HADOOP_PATH)\n",
    "        print(\"Hadoop started\")\n",
    "    except Exception as e:\n",
    "        print(f\"Error: {e}\")\n",
    "\n",
    "start()"
   ]
  },
  {
   "cell_type": "markdown",
   "id": "1f4a84ad",
   "metadata": {},
   "source": [
    "To check hadoop by UI: localhost:9870 (namenode)\n",
    "To check hadoop by UI: localhost:9864 (datanode)\n",
    "\n",
    "to check started component: on cmd, run 'jps'"
   ]
  }
 ],
 "metadata": {
  "kernelspec": {
   "display_name": "venv",
   "language": "python",
   "name": "python3"
  },
  "language_info": {
   "codemirror_mode": {
    "name": "ipython",
    "version": 3
   },
   "file_extension": ".py",
   "mimetype": "text/x-python",
   "name": "python",
   "nbconvert_exporter": "python",
   "pygments_lexer": "ipython3",
   "version": "3.12.3"
  }
 },
 "nbformat": 4,
 "nbformat_minor": 5
}
