{
 "cells": [
  {
   "cell_type": "code",
   "execution_count": 2,
   "id": "8a977ad4",
   "metadata": {},
   "outputs": [],
   "source": [
    "import requests\n",
    "import json\n",
    "import os\n",
    "from dotenv import load_dotenv\n",
    "import subprocess\n",
    "\n",
    "load_dotenv()\n",
    "KAFKA_PATH = os.getenv('KAFKA_PATH')"
   ]
  },
  {
   "cell_type": "markdown",
   "id": "30fcebf5",
   "metadata": {},
   "source": [
    "Activate Kafka-Connector"
   ]
  },
  {
   "cell_type": "code",
   "execution_count": 5,
   "id": "da632f97",
   "metadata": {},
   "outputs": [
    {
     "name": "stdout",
     "output_type": "stream",
     "text": [
      "Connector for 'superstore' created\n"
     ]
    }
   ],
   "source": [
    "KAFKA_CONNECT_URL = 'http://localhost:8083'\n",
    "\n",
    "\n",
    "def create_hdfs_connector(topic_name):\n",
    "    config = {\n",
    "        \"name\": f\"hdfs-sink-{topic_name}\",\n",
    "        \"config\": {\n",
    "            \"connector.class\": \"io.confluent.connect.hdfs.HdfsSinkConnector\",\n",
    "            \"topics\": topic_name,\n",
    "            \"hdfs.url\": \"hdfs://localhost:9000\",\n",
    "            \"flush.size\": \"1000\",\n",
    "            \"format.class\": \"io.confluent.connect.hdfs.json.JsonFormat\",\n",
    "            \"schema.compatibility\": \"NONE\",\n",
    "            \"value.converter\": \"org.apache.kafka.connect.json.JsonConverter\",\n",
    "            \"value.converter.schemas.enable\": \"false\",\n",
    "            \"consumer.auto.offset.reset\": \"earliest\" #Read existing data\n",
    "        }\n",
    "    }\n",
    "    \n",
    "    with open(f'{topic_name}-connector.json', 'w') as f:\n",
    "        json.dump(config, f)\n",
    "    \n",
    "    # Create connector\n",
    "    try:\n",
    "        subprocess.run([\n",
    "            'curl', '-X', 'POST',\n",
    "            f'{KAFKA_CONNECT_URL}/connectors',\n",
    "            '-H', 'Content-Type: application/json',\n",
    "            '-d', f'@{topic_name}-connector.json'\n",
    "        ], check=True)\n",
    "        print(f\"Connector for '{topic_name}' created\")\n",
    "    except subprocess.CalledProcessError as e:\n",
    "        print(f\"Failed to create connector for '{topic_name}', {e}\")\n",
    "        \n",
    "create_hdfs_connector('superstore')"
   ]
  },
  {
   "cell_type": "code",
   "execution_count": 2,
   "id": "f93dc47a",
   "metadata": {},
   "outputs": [],
   "source": [
    "from pyspark.sql import SparkSession\n",
    "from pyspark.sql.functions import col"
   ]
  },
  {
   "cell_type": "markdown",
   "id": "ecf8d7ba",
   "metadata": {},
   "source": [
    "Buat Session Spark"
   ]
  },
  {
   "cell_type": "code",
   "execution_count": 15,
   "id": "9fa32b1b",
   "metadata": {},
   "outputs": [
    {
     "name": "stdout",
     "output_type": "stream",
     "text": [
      "session berhadil dibuat\n"
     ]
    },
    {
     "data": {
      "text/plain": [
       "'4.0.0'"
      ]
     },
     "execution_count": 15,
     "metadata": {},
     "output_type": "execute_result"
    }
   ],
   "source": [
    "spark = SparkSession.builder \\\n",
    "    .appName(\"KafkatoHDFS\") \\\n",
    "    .master(\"local[*]\") \\\n",
    "    .config(\"spark.jars.packages\", \"org.apache.spark:spark-sql-kafka-0-10_2.13:4.0.0\") \\\n",
    "    .getOrCreate()\n",
    "\n",
    "print(\"session berhadil dibuat\")\n",
    "spark.version"
   ]
  },
  {
   "cell_type": "markdown",
   "id": "69339bc6",
   "metadata": {},
   "source": [
    "PIndahkan data dari Kafka ke HDFS (Data Superstore)"
   ]
  },
  {
   "cell_type": "code",
   "execution_count": 16,
   "id": "3c1e0c6e",
   "metadata": {},
   "outputs": [
    {
     "name": "stdout",
     "output_type": "stream",
     "text": [
      "berhasil\n"
     ]
    }
   ],
   "source": [
    "df = spark.read\\\n",
    "    .format(\"kafka\") \\\n",
    "    .option(\"kafka.bootstrap.servers\", \"localhost:9092\") \\\n",
    "    .option(\"subscribe\", \"superstore\") \\\n",
    "    .option(\"startingOffsets\", \"earliest\") \\\n",
    "    .option(\"endingOffsets\", \"latest\") \\\n",
    "    .load()\n",
    "\n",
    "df_superstore = df.select(col(\"value\").cast(\"string\").alias(\"message\"), col(\"timestamp\").alias(\"timestamp_kafka\"))\n",
    "\n",
    "df_superstore.write.mode(\"overwrite\").format(\"parquet\").save(\"hdfs://localhost:9000/hdfs_superstore\")\n",
    "\n",
    "print(\"berhasil\")"
   ]
  },
  {
   "cell_type": "markdown",
   "id": "27332646",
   "metadata": {},
   "source": [
    "Cek Hasil di HDFS (Data Superstore)"
   ]
  },
  {
   "cell_type": "code",
   "execution_count": 17,
   "id": "56f76f04",
   "metadata": {},
   "outputs": [
    {
     "name": "stdout",
     "output_type": "stream",
     "text": [
      "+----------------------------------------------------------------------------------------------------------------------------------------------------------------------------------------------------------------------------------------------------------------------------------------------------------------------------------------------------------------------------------------------------------------------------------------------------------------------------------------------------------------------------------------------------------------------------------------------------------------------+-----------------------+\n",
      "|message                                                                                                                                                                                                                                                                                                                                                                                                                                                                                                                                                                                                               |timestamp_kafka        |\n",
      "+----------------------------------------------------------------------------------------------------------------------------------------------------------------------------------------------------------------------------------------------------------------------------------------------------------------------------------------------------------------------------------------------------------------------------------------------------------------------------------------------------------------------------------------------------------------------------------------------------------------------+-----------------------+\n",
      "|{'Row ID': '1', 'Order ID': 'CA-2016-152156', 'Order Date': '11/8/2016', 'Ship Date': '11/11/2016', 'Ship Mode': 'Second Class', 'Customer ID': 'CG-12520', 'Customer Name': 'Claire Gute', 'Segment': 'Consumer', 'Country': 'United States', 'City': 'Henderson', 'State': 'Kentucky', 'Postal Code': '42420', 'Region': 'South', 'Product ID': 'FUR-BO-10001798', 'Category': 'Furniture', 'Sub-Category': 'Bookcases', 'Product Name': 'Bush Somerset Collection Bookcase', 'Sales': '261.96', 'Quantity': '2', 'Discount': '0', 'Profit': '41.9136'}                                                             |2025-06-25 23:05:50.34 |\n",
      "|{'Row ID': '2', 'Order ID': 'CA-2016-152156', 'Order Date': '11/8/2016', 'Ship Date': '11/11/2016', 'Ship Mode': 'Second Class', 'Customer ID': 'CG-12520', 'Customer Name': 'Claire Gute', 'Segment': 'Consumer', 'Country': 'United States', 'City': 'Henderson', 'State': 'Kentucky', 'Postal Code': '42420', 'Region': 'South', 'Product ID': 'FUR-CH-10000454', 'Category': 'Furniture', 'Sub-Category': 'Chairs', 'Product Name': 'Hon Deluxe Fabric Upholstered Stacking Chairs, Rounded Back', 'Sales': '731.94', 'Quantity': '3', 'Discount': '0', 'Profit': '219.582'}                                      |2025-06-25 23:05:50.342|\n",
      "|{'Row ID': '3', 'Order ID': 'CA-2016-138688', 'Order Date': '6/12/2016', 'Ship Date': '6/16/2016', 'Ship Mode': 'Second Class', 'Customer ID': 'DV-13045', 'Customer Name': 'Darrin Van Huff', 'Segment': 'Corporate', 'Country': 'United States', 'City': 'Los Angeles', 'State': 'California', 'Postal Code': '90036', 'Region': 'West', 'Product ID': 'OFF-LA-10000240', 'Category': 'Office Supplies', 'Sub-Category': 'Labels', 'Product Name': 'Self-Adhesive Address Labels for Typewriters by Universal', 'Sales': '14.62', 'Quantity': '2', 'Discount': '0', 'Profit': '6.8714'}                             |2025-06-25 23:05:50.342|\n",
      "|{'Row ID': '4', 'Order ID': 'US-2015-108966', 'Order Date': '10/11/2015', 'Ship Date': '10/18/2015', 'Ship Mode': 'Standard Class', 'Customer ID': 'SO-20335', 'Customer Name': \"Sean O'Donnell\", 'Segment': 'Consumer', 'Country': 'United States', 'City': 'Fort Lauderdale', 'State': 'Florida', 'Postal Code': '33311', 'Region': 'South', 'Product ID': 'FUR-TA-10000577', 'Category': 'Furniture', 'Sub-Category': 'Tables', 'Product Name': 'Bretford CR4500 Series Slim Rectangular Table', 'Sales': '957.5775', 'Quantity': '5', 'Discount': '0.45', 'Profit': '-383.031'}                                   |2025-06-25 23:05:50.342|\n",
      "|{'Row ID': '5', 'Order ID': 'US-2015-108966', 'Order Date': '10/11/2015', 'Ship Date': '10/18/2015', 'Ship Mode': 'Standard Class', 'Customer ID': 'SO-20335', 'Customer Name': \"Sean O'Donnell\", 'Segment': 'Consumer', 'Country': 'United States', 'City': 'Fort Lauderdale', 'State': 'Florida', 'Postal Code': '33311', 'Region': 'South', 'Product ID': 'OFF-ST-10000760', 'Category': 'Office Supplies', 'Sub-Category': 'Storage', 'Product Name': \"Eldon Fold 'N Roll Cart System\", 'Sales': '22.368', 'Quantity': '2', 'Discount': '0.2', 'Profit': '2.5164'}                                                |2025-06-25 23:05:50.342|\n",
      "|{'Row ID': '6', 'Order ID': 'CA-2014-115812', 'Order Date': '6/9/2014', 'Ship Date': '6/14/2014', 'Ship Mode': 'Standard Class', 'Customer ID': 'BH-11710', 'Customer Name': 'Brosina Hoffman', 'Segment': 'Consumer', 'Country': 'United States', 'City': 'Los Angeles', 'State': 'California', 'Postal Code': '90032', 'Region': 'West', 'Product ID': 'FUR-FU-10001487', 'Category': 'Furniture', 'Sub-Category': 'Furnishings', 'Product Name': 'Eldon Expressions Wood and Plastic Desk Accessories, Cherry Wood', 'Sales': '48.86', 'Quantity': '7', 'Discount': '0', 'Profit': '14.1694'}                      |2025-06-25 23:05:50.342|\n",
      "|{'Row ID': '7', 'Order ID': 'CA-2014-115812', 'Order Date': '6/9/2014', 'Ship Date': '6/14/2014', 'Ship Mode': 'Standard Class', 'Customer ID': 'BH-11710', 'Customer Name': 'Brosina Hoffman', 'Segment': 'Consumer', 'Country': 'United States', 'City': 'Los Angeles', 'State': 'California', 'Postal Code': '90032', 'Region': 'West', 'Product ID': 'OFF-AR-10002833', 'Category': 'Office Supplies', 'Sub-Category': 'Art', 'Product Name': 'Newell 322', 'Sales': '7.28', 'Quantity': '4', 'Discount': '0', 'Profit': '1.9656'}                                                                                |2025-06-25 23:05:50.342|\n",
      "|{'Row ID': '8', 'Order ID': 'CA-2014-115812', 'Order Date': '6/9/2014', 'Ship Date': '6/14/2014', 'Ship Mode': 'Standard Class', 'Customer ID': 'BH-11710', 'Customer Name': 'Brosina Hoffman', 'Segment': 'Consumer', 'Country': 'United States', 'City': 'Los Angeles', 'State': 'California', 'Postal Code': '90032', 'Region': 'West', 'Product ID': 'TEC-PH-10002275', 'Category': 'Technology', 'Sub-Category': 'Phones', 'Product Name': 'Mitel 5320 IP Phone VoIP phone', 'Sales': '907.152', 'Quantity': '6', 'Discount': '0.2', 'Profit': '90.7152'}                                                        |2025-06-25 23:05:50.342|\n",
      "|{'Row ID': '9', 'Order ID': 'CA-2014-115812', 'Order Date': '6/9/2014', 'Ship Date': '6/14/2014', 'Ship Mode': 'Standard Class', 'Customer ID': 'BH-11710', 'Customer Name': 'Brosina Hoffman', 'Segment': 'Consumer', 'Country': 'United States', 'City': 'Los Angeles', 'State': 'California', 'Postal Code': '90032', 'Region': 'West', 'Product ID': 'OFF-BI-10003910', 'Category': 'Office Supplies', 'Sub-Category': 'Binders', 'Product Name': 'DXL Angle-View Binders with Locking Rings by Samsill', 'Sales': '18.504', 'Quantity': '3', 'Discount': '0.2', 'Profit': '5.7825'}                              |2025-06-25 23:05:50.342|\n",
      "|{'Row ID': '10', 'Order ID': 'CA-2014-115812', 'Order Date': '6/9/2014', 'Ship Date': '6/14/2014', 'Ship Mode': 'Standard Class', 'Customer ID': 'BH-11710', 'Customer Name': 'Brosina Hoffman', 'Segment': 'Consumer', 'Country': 'United States', 'City': 'Los Angeles', 'State': 'California', 'Postal Code': '90032', 'Region': 'West', 'Product ID': 'OFF-AP-10002892', 'Category': 'Office Supplies', 'Sub-Category': 'Appliances', 'Product Name': 'Belkin F5C206VTEL 6 Outlet Surge', 'Sales': '114.9', 'Quantity': '5', 'Discount': '0', 'Profit': '34.47'}                                                  |2025-06-25 23:05:50.342|\n",
      "|{'Row ID': '11', 'Order ID': 'CA-2014-115812', 'Order Date': '6/9/2014', 'Ship Date': '6/14/2014', 'Ship Mode': 'Standard Class', 'Customer ID': 'BH-11710', 'Customer Name': 'Brosina Hoffman', 'Segment': 'Consumer', 'Country': 'United States', 'City': 'Los Angeles', 'State': 'California', 'Postal Code': '90032', 'Region': 'West', 'Product ID': 'FUR-TA-10001539', 'Category': 'Furniture', 'Sub-Category': 'Tables', 'Product Name': 'Chromcraft Rectangular Conference Tables', 'Sales': '1706.184', 'Quantity': '9', 'Discount': '0.2', 'Profit': '85.3092'}                                             |2025-06-25 23:05:50.342|\n",
      "|{'Row ID': '12', 'Order ID': 'CA-2014-115812', 'Order Date': '6/9/2014', 'Ship Date': '6/14/2014', 'Ship Mode': 'Standard Class', 'Customer ID': 'BH-11710', 'Customer Name': 'Brosina Hoffman', 'Segment': 'Consumer', 'Country': 'United States', 'City': 'Los Angeles', 'State': 'California', 'Postal Code': '90032', 'Region': 'West', 'Product ID': 'TEC-PH-10002033', 'Category': 'Technology', 'Sub-Category': 'Phones', 'Product Name': 'Konftel 250 Conference\\xa0phone\\xa0- Charcoal black', 'Sales': '911.424', 'Quantity': '4', 'Discount': '0.2', 'Profit': '68.3568'}                                  |2025-06-25 23:05:50.342|\n",
      "|{'Row ID': '13', 'Order ID': 'CA-2017-114412', 'Order Date': '4/15/2017', 'Ship Date': '4/20/2017', 'Ship Mode': 'Standard Class', 'Customer ID': 'AA-10480', 'Customer Name': 'Andrew Allen', 'Segment': 'Consumer', 'Country': 'United States', 'City': 'Concord', 'State': 'North Carolina', 'Postal Code': '28027', 'Region': 'South', 'Product ID': 'OFF-PA-10002365', 'Category': 'Office Supplies', 'Sub-Category': 'Paper', 'Product Name': 'Xerox 1967', 'Sales': '15.552', 'Quantity': '3', 'Discount': '0.2', 'Profit': '5.4432'}                                                                          |2025-06-25 23:05:50.342|\n",
      "|{'Row ID': '14', 'Order ID': 'CA-2016-161389', 'Order Date': '12/5/2016', 'Ship Date': '12/10/2016', 'Ship Mode': 'Standard Class', 'Customer ID': 'IM-15070', 'Customer Name': 'Irene Maddox', 'Segment': 'Consumer', 'Country': 'United States', 'City': 'Seattle', 'State': 'Washington', 'Postal Code': '98103', 'Region': 'West', 'Product ID': 'OFF-BI-10003656', 'Category': 'Office Supplies', 'Sub-Category': 'Binders', 'Product Name': 'Fellowes PB200 Plastic Comb Binding Machine', 'Sales': '407.976', 'Quantity': '3', 'Discount': '0.2', 'Profit': '132.5922'}                                        |2025-06-25 23:05:50.342|\n",
      "|{'Row ID': '15', 'Order ID': 'US-2015-118983', 'Order Date': '11/22/2015', 'Ship Date': '11/26/2015', 'Ship Mode': 'Standard Class', 'Customer ID': 'HP-14815', 'Customer Name': 'Harold Pawlan', 'Segment': 'Home Office', 'Country': 'United States', 'City': 'Fort Worth', 'State': 'Texas', 'Postal Code': '76106', 'Region': 'Central', 'Product ID': 'OFF-AP-10002311', 'Category': 'Office Supplies', 'Sub-Category': 'Appliances', 'Product Name': 'Holmes Replacement Filter for HEPA Air Cleaner, Very Large Room, HEPA Filter', 'Sales': '68.81', 'Quantity': '5', 'Discount': '0.8', 'Profit': '-123.858'}|2025-06-25 23:05:50.342|\n",
      "|{'Row ID': '16', 'Order ID': 'US-2015-118983', 'Order Date': '11/22/2015', 'Ship Date': '11/26/2015', 'Ship Mode': 'Standard Class', 'Customer ID': 'HP-14815', 'Customer Name': 'Harold Pawlan', 'Segment': 'Home Office', 'Country': 'United States', 'City': 'Fort Worth', 'State': 'Texas', 'Postal Code': '76106', 'Region': 'Central', 'Product ID': 'OFF-BI-10000756', 'Category': 'Office Supplies', 'Sub-Category': 'Binders', 'Product Name': 'Storex DuraTech Recycled Plastic Frosted Binders', 'Sales': '2.544', 'Quantity': '3', 'Discount': '0.8', 'Profit': '-3.816'}                                 |2025-06-25 23:05:50.342|\n",
      "|{'Row ID': '17', 'Order ID': 'CA-2014-105893', 'Order Date': '11/11/2014', 'Ship Date': '11/18/2014', 'Ship Mode': 'Standard Class', 'Customer ID': 'PK-19075', 'Customer Name': 'Pete Kriz', 'Segment': 'Consumer', 'Country': 'United States', 'City': 'Madison', 'State': 'Wisconsin', 'Postal Code': '53711', 'Region': 'Central', 'Product ID': 'OFF-ST-10004186', 'Category': 'Office Supplies', 'Sub-Category': 'Storage', 'Product Name': 'Stur-D-Stor Shelving, Vertical 5-Shelf: 72\"H x 36\"W x 18 1/2\"D', 'Sales': '665.88', 'Quantity': '6', 'Discount': '0', 'Profit': '13.3176'}                         |2025-06-25 23:05:50.342|\n",
      "|{'Row ID': '18', 'Order ID': 'CA-2014-167164', 'Order Date': '5/13/2014', 'Ship Date': '5/15/2014', 'Ship Mode': 'Second Class', 'Customer ID': 'AG-10270', 'Customer Name': 'Alejandro Grove', 'Segment': 'Consumer', 'Country': 'United States', 'City': 'West Jordan', 'State': 'Utah', 'Postal Code': '84084', 'Region': 'West', 'Product ID': 'OFF-ST-10000107', 'Category': 'Office Supplies', 'Sub-Category': 'Storage', 'Product Name': 'Fellowes Super Stor/Drawer', 'Sales': '55.5', 'Quantity': '2', 'Discount': '0', 'Profit': '9.99'}                                                                    |2025-06-25 23:05:50.342|\n",
      "|{'Row ID': '19', 'Order ID': 'CA-2014-143336', 'Order Date': '8/27/2014', 'Ship Date': '9/1/2014', 'Ship Mode': 'Second Class', 'Customer ID': 'ZD-21925', 'Customer Name': 'Zuschuss Donatelli', 'Segment': 'Consumer', 'Country': 'United States', 'City': 'San Francisco', 'State': 'California', 'Postal Code': '94109', 'Region': 'West', 'Product ID': 'OFF-AR-10003056', 'Category': 'Office Supplies', 'Sub-Category': 'Art', 'Product Name': 'Newell 341', 'Sales': '8.56', 'Quantity': '2', 'Discount': '0', 'Profit': '2.4824'}                                                                            |2025-06-25 23:05:50.342|\n",
      "|{'Row ID': '20', 'Order ID': 'CA-2014-143336', 'Order Date': '8/27/2014', 'Ship Date': '9/1/2014', 'Ship Mode': 'Second Class', 'Customer ID': 'ZD-21925', 'Customer Name': 'Zuschuss Donatelli', 'Segment': 'Consumer', 'Country': 'United States', 'City': 'San Francisco', 'State': 'California', 'Postal Code': '94109', 'Region': 'West', 'Product ID': 'TEC-PH-10001949', 'Category': 'Technology', 'Sub-Category': 'Phones', 'Product Name': 'Cisco SPA 501G IP Phone', 'Sales': '213.48', 'Quantity': '3', 'Discount': '0.2', 'Profit': '16.011'}                                                             |2025-06-25 23:05:50.342|\n",
      "+----------------------------------------------------------------------------------------------------------------------------------------------------------------------------------------------------------------------------------------------------------------------------------------------------------------------------------------------------------------------------------------------------------------------------------------------------------------------------------------------------------------------------------------------------------------------------------------------------------------------+-----------------------+\n",
      "only showing top 20 rows\n"
     ]
    }
   ],
   "source": [
    "sparkcheck = SparkSession.builder.appName(\"Cek output HDFS\").getOrCreate()\n",
    "\n",
    "df2 = sparkcheck.read.parquet(\"hdfs://localhost:9000/hdfs_superstore\")\n",
    "df2.show(truncate=False)"
   ]
  },
  {
   "cell_type": "markdown",
   "id": "37c40b39",
   "metadata": {},
   "source": [
    "Simpan dari HDFS ke Fromat DLH di Delta Lake"
   ]
  },
  {
   "cell_type": "code",
   "execution_count": 28,
   "id": "71da523a",
   "metadata": {},
   "outputs": [
    {
     "name": "stdout",
     "output_type": "stream",
     "text": [
      "Requirement already satisfied: delta-spark==4.0.0 in d:\\ribkaadevina\\college\\8.s2\\1. sem 1\\mdik\\tgp-mdik-2\\venv\\lib\\site-packages (4.0.0)\n",
      "Requirement already satisfied: pyspark>=4.0.0 in d:\\ribkaadevina\\college\\8.s2\\1. sem 1\\mdik\\tgp-mdik-2\\venv\\lib\\site-packages (from delta-spark==4.0.0) (4.0.0)\n",
      "Requirement already satisfied: importlib-metadata>=1.0.0 in d:\\ribkaadevina\\college\\8.s2\\1. sem 1\\mdik\\tgp-mdik-2\\venv\\lib\\site-packages (from delta-spark==4.0.0) (8.7.0)\n",
      "Requirement already satisfied: zipp>=3.20 in d:\\ribkaadevina\\college\\8.s2\\1. sem 1\\mdik\\tgp-mdik-2\\venv\\lib\\site-packages (from importlib-metadata>=1.0.0->delta-spark==4.0.0) (3.23.0)\n",
      "Requirement already satisfied: py4j==0.10.9.9 in d:\\ribkaadevina\\college\\8.s2\\1. sem 1\\mdik\\tgp-mdik-2\\venv\\lib\\site-packages (from pyspark>=4.0.0->delta-spark==4.0.0) (0.10.9.9)\n"
     ]
    },
    {
     "name": "stderr",
     "output_type": "stream",
     "text": [
      "\n",
      "[notice] A new release of pip is available: 23.2.1 -> 25.1.1\n",
      "[notice] To update, run: python.exe -m pip install --upgrade pip\n"
     ]
    }
   ],
   "source": [
    "!pip install delta-spark==4.0.0"
   ]
  },
  {
   "cell_type": "code",
   "execution_count": 25,
   "id": "e0f4b7dc",
   "metadata": {},
   "outputs": [
    {
     "name": "stdout",
     "output_type": "stream",
     "text": [
      "session berhadil dibuat\n"
     ]
    },
    {
     "data": {
      "text/plain": [
       "'4.0.0'"
      ]
     },
     "execution_count": 25,
     "metadata": {},
     "output_type": "execute_result"
    }
   ],
   "source": [
    "sparkDelta = SparkSession.builder \\\n",
    "    .appName(\"DeltaLake\") \\\n",
    "    .master(\"local[*]\") \\\n",
    "    .config(\"spark.jars.packages\", \n",
    "            \"org.apache.spark:spark-sql-kafka-0-10_2.13:4.0.0,io.delta:delta-spark_2.13:4.0.0\") \\\n",
    "    .config(\"spark.sql.extensions\", \"io.delta.sql.DeltaSparkSessionExtension\") \\\n",
    "    .config(\"spark.sql.catalog.spark_catalog\", \"org.apache.spark.sql.delta.catalog.DeltaCatalog\") \\\n",
    "    .getOrCreate()\n",
    "\n",
    "print(\"session berhadil dibuat\")\n",
    "sparkDelta.version"
   ]
  },
  {
   "cell_type": "code",
   "execution_count": 26,
   "id": "e222c131",
   "metadata": {},
   "outputs": [
    {
     "name": "stdout",
     "output_type": "stream",
     "text": [
      "berhasil\n"
     ]
    }
   ],
   "source": [
    "df2 = sparkDelta.read.parquet(\"hdfs://localhost:9000/hdfs_superstore\")\n",
    "\n",
    "df2.write.format(\"delta\").mode(\"overwrite\").save(\"hdfs://localhost:9000/delta_superstore\")\n",
    "\n",
    "print(\"berhasil\")"
   ]
  },
  {
   "cell_type": "markdown",
   "id": "d1c3611d",
   "metadata": {},
   "source": [
    "Cek hasilnya di Delta Lake"
   ]
  },
  {
   "cell_type": "code",
   "execution_count": 27,
   "id": "dd055410",
   "metadata": {},
   "outputs": [
    {
     "name": "stdout",
     "output_type": "stream",
     "text": [
      "+--------------------+--------------------+\n",
      "|             message|     timestamp_kafka|\n",
      "+--------------------+--------------------+\n",
      "|{'Row ID': '1', '...|2025-06-25 23:05:...|\n",
      "|{'Row ID': '2', '...|2025-06-25 23:05:...|\n",
      "|{'Row ID': '3', '...|2025-06-25 23:05:...|\n",
      "|{'Row ID': '4', '...|2025-06-25 23:05:...|\n",
      "|{'Row ID': '5', '...|2025-06-25 23:05:...|\n",
      "|{'Row ID': '6', '...|2025-06-25 23:05:...|\n",
      "|{'Row ID': '7', '...|2025-06-25 23:05:...|\n",
      "|{'Row ID': '8', '...|2025-06-25 23:05:...|\n",
      "|{'Row ID': '9', '...|2025-06-25 23:05:...|\n",
      "|{'Row ID': '10', ...|2025-06-25 23:05:...|\n",
      "|{'Row ID': '11', ...|2025-06-25 23:05:...|\n",
      "|{'Row ID': '12', ...|2025-06-25 23:05:...|\n",
      "|{'Row ID': '13', ...|2025-06-25 23:05:...|\n",
      "|{'Row ID': '14', ...|2025-06-25 23:05:...|\n",
      "|{'Row ID': '15', ...|2025-06-25 23:05:...|\n",
      "|{'Row ID': '16', ...|2025-06-25 23:05:...|\n",
      "|{'Row ID': '17', ...|2025-06-25 23:05:...|\n",
      "|{'Row ID': '18', ...|2025-06-25 23:05:...|\n",
      "|{'Row ID': '19', ...|2025-06-25 23:05:...|\n",
      "|{'Row ID': '20', ...|2025-06-25 23:05:...|\n",
      "+--------------------+--------------------+\n",
      "only showing top 20 rows\n"
     ]
    }
   ],
   "source": [
    "df_delta = sparkDelta.read.format(\"delta\").load(\"hdfs://localhost:9000/delta_superstore\")\n",
    "df_delta.show()"
   ]
  },
  {
   "cell_type": "code",
   "execution_count": 28,
   "id": "6651e20b",
   "metadata": {},
   "outputs": [
    {
     "name": "stdout",
     "output_type": "stream",
     "text": [
      "root\n",
      " |-- message: string (nullable = true)\n",
      " |-- timestamp_kafka: timestamp (nullable = true)\n",
      "\n"
     ]
    }
   ],
   "source": [
    "df_delta.printSchema()"
   ]
  },
  {
   "cell_type": "code",
   "execution_count": 29,
   "id": "9d6bbd02",
   "metadata": {},
   "outputs": [
    {
     "name": "stdout",
     "output_type": "stream",
     "text": [
      "+------+--------------------+----+-----------+--------------------+--------------------+--------------------+----------------+-----------------+--------+-----------+----------+----------------+----------------+--------------------+\n",
      "|format|                  id|name|description|            location|           createdAt|        lastModified|partitionColumns|clusteringColumns|numFiles|sizeInBytes|properties|minReaderVersion|minWriterVersion|       tableFeatures|\n",
      "+------+--------------------+----+-----------+--------------------+--------------------+--------------------+----------------+-----------------+--------+-----------+----------+----------------+----------------+--------------------+\n",
      "| delta|0b2a3436-8a88-48d...|NULL|       NULL|hdfs://localhost:...|2025-06-28 17:13:...|2025-06-28 17:13:...|              []|               []|       1|    1378385|        {}|               1|               2|[appendOnly, inva...|\n",
      "+------+--------------------+----+-----------+--------------------+--------------------+--------------------+----------------+-----------------+--------+-----------+----------+----------------+----------------+--------------------+\n",
      "\n"
     ]
    }
   ],
   "source": [
    "sparkDelta.sql(\"DESCRIBE DETAIL delta.`hdfs://localhost:9000/delta_superstore`\").show()"
   ]
  },
  {
   "cell_type": "code",
   "execution_count": 30,
   "id": "befe8d26",
   "metadata": {},
   "outputs": [
    {
     "name": "stdout",
     "output_type": "stream",
     "text": [
      "+-------+--------------------+------+--------+---------+--------------------+----+--------+---------+-----------+--------------+-------------+--------------------+------------+--------------------+\n",
      "|version|           timestamp|userId|userName|operation| operationParameters| job|notebook|clusterId|readVersion|isolationLevel|isBlindAppend|    operationMetrics|userMetadata|          engineInfo|\n",
      "+-------+--------------------+------+--------+---------+--------------------+----+--------+---------+-----------+--------------+-------------+--------------------+------------+--------------------+\n",
      "|      0|2025-06-28 17:13:...|  NULL|    NULL|    WRITE|{mode -> Overwrit...|NULL|    NULL|     NULL|       NULL|  Serializable|        false|{numFiles -> 1, n...|        NULL|Apache-Spark/4.0....|\n",
      "+-------+--------------------+------+--------+---------+--------------------+----+--------+---------+-----------+--------------+-------------+--------------------+------------+--------------------+\n",
      "\n"
     ]
    }
   ],
   "source": [
    "sparkDelta.sql(\"DESCRIBE HISTORY delta.`hdfs://localhost:9000/delta_superstore`\").show()"
   ]
  }
 ],
 "metadata": {
  "kernelspec": {
   "display_name": "venv",
   "language": "python",
   "name": "python3"
  },
  "language_info": {
   "codemirror_mode": {
    "name": "ipython",
    "version": 3
   },
   "file_extension": ".py",
   "mimetype": "text/x-python",
   "name": "python",
   "nbconvert_exporter": "python",
   "pygments_lexer": "ipython3",
   "version": "3.12.1"
  }
 },
 "nbformat": 4,
 "nbformat_minor": 5
}
