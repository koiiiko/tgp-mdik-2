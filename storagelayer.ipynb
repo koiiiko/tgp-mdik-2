{
 "cells": [
  {
   "cell_type": "code",
   "execution_count": 11,
   "id": "8a977ad4",
   "metadata": {},
   "outputs": [],
   "source": [
    "import requests\n",
    "import json\n",
    "import os\n",
    "from dotenv import load_dotenv\n",
    "import subprocess\n",
    "\n",
    "load_dotenv()\n",
    "KAFKA_PATH = os.getenv('KAFKA_PATH')"
   ]
  },
  {
   "cell_type": "markdown",
   "id": "30fcebf5",
   "metadata": {},
   "source": [
    "Activate Kafka-Connector"
   ]
  },
  {
   "cell_type": "code",
   "execution_count": 17,
   "id": "da632f97",
   "metadata": {},
   "outputs": [
    {
     "name": "stdout",
     "output_type": "stream",
     "text": [
      "Connector for 'superstore' created\n"
     ]
    }
   ],
   "source": [
    "KAFKA_CONNECT_URL = 'http://localhost:8083'\n",
    "\n",
    "\n",
    "def create_hdfs_connector(topic_name):\n",
    "    config = {\n",
    "        \"name\": f\"hdfs-sink-{topic_name}\",\n",
    "        \"config\": {\n",
    "            \"connector.class\": \"io.confluent.connect.hdfs.HdfsSinkConnector\",\n",
    "            \"topics\": topic_name,\n",
    "            \"hdfs.url\": \"hdfs://localhost:9000\",\n",
    "            \"flush.size\": \"1000\",\n",
    "            \"format.class\": \"io.confluent.connect.hdfs.json.JsonFormat\",\n",
    "            \"schema.compatibility\": \"NONE\",\n",
    "            \"value.converter\": \"org.apache.kafka.connect.json.JsonConverter\",\n",
    "            \"value.converter.schemas.enable\": \"false\",\n",
    "            \"consumer.auto.offset.reset\": \"earliest\" #Read existing data\n",
    "        }\n",
    "    }\n",
    "    \n",
    "    with open(f'{topic_name}-connector.json', 'w') as f:\n",
    "        json.dump(config, f)\n",
    "    \n",
    "    # Create connector\n",
    "    try:\n",
    "        subprocess.run([\n",
    "            'curl', '-X', 'POST',\n",
    "            f'{KAFKA_CONNECT_URL}/connectors',\n",
    "            '-H', 'Content-Type: application/json',\n",
    "            '-d', f'@{topic_name}-connector.json'\n",
    "        ], check=True)\n",
    "        print(f\"Connector for '{topic_name}' created\")\n",
    "    except subprocess.CalledProcessError as e:\n",
    "        print(f\"Failed to create connector for '{topic_name}', {e}\")\n",
    "        \n",
    "create_hdfs_connector('superstore')"
   ]
  }
 ],
 "metadata": {
  "kernelspec": {
   "display_name": "Python 3",
   "language": "python",
   "name": "python3"
  },
  "language_info": {
   "codemirror_mode": {
    "name": "ipython",
    "version": 3
   },
   "file_extension": ".py",
   "mimetype": "text/x-python",
   "name": "python",
   "nbconvert_exporter": "python",
   "pygments_lexer": "ipython3",
   "version": "3.11.5"
  }
 },
 "nbformat": 4,
 "nbformat_minor": 5
}
